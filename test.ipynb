{
 "cells": [
  {
   "cell_type": "code",
   "execution_count": 1,
   "metadata": {
    "metadata": {}
   },
   "outputs": [],
   "source": [
    "import predictor"
   ]
  },
  {
   "cell_type": "code",
   "execution_count": 3,
   "metadata": {
    "metadata": {}
   },
   "outputs": [
    {
     "name": "stdout",
     "output_type": "stream",
     "text": [
      "0 min 0 seconds processed\n",
      "1 min 0 seconds processed\n",
      "2 min 0 seconds processed\n",
      "spike found at 2 min 20 seconds\n",
      "3 min 0 seconds processed\n",
      "spike found at 3 min 45 seconds\n",
      "spike found at 3 min 54 seconds\n",
      "4 min 0 seconds processed\n",
      "spike found at 4 min 48 seconds\n",
      "5 min 0 seconds processed\n",
      "6 min 0 seconds processed\n",
      "spike found at 6 min 10 seconds\n",
      "7 min 0 seconds processed\n",
      "spike found at 7 min 55 seconds\n",
      "8 min 0 seconds processed\n",
      "spike found at 8 min 2 seconds\n",
      "spike found at 8 min 29 seconds\n",
      "9 min 0 seconds processed\n",
      "10 min 0 seconds processed\n",
      "11 min 0 seconds processed\n",
      "12 min 0 seconds processed\n",
      "spike found at 12 min 36 seconds\n",
      "13 min 0 seconds processed\n",
      "14 min 0 seconds processed\n",
      "15 min 0 seconds processed\n",
      "16 min 0 seconds processed\n",
      "spike found at 16 min 45 seconds\n",
      "17 min 0 seconds processed\n",
      "Done\n"
     ]
    }
   ],
   "source": [
    "ret = predictor.findAttacks(\"./testing/unswSet2.mp4\", True, \"./output/unswSet2Pred.avi\")"
   ]
  },
  {
   "cell_type": "code",
   "execution_count": 4,
   "metadata": {
    "metadata": {}
   },
   "outputs": [
    {
     "data": {
      "text/plain": [
       "{'totalFrames': 32302,\n",
       " 'attackFrames': [4221,\n",
       "  6778,\n",
       "  7028,\n",
       "  8654,\n",
       "  11113,\n",
       "  14254,\n",
       "  14478,\n",
       "  15285,\n",
       "  22704,\n",
       "  30163]}"
      ]
     },
     "execution_count": 4,
     "metadata": {},
     "output_type": "execute_result"
    }
   ],
   "source": [
    "ret"
   ]
  },
  {
   "cell_type": "code",
   "execution_count": 5,
   "metadata": {
    "metadata": {}
   },
   "outputs": [
    {
     "name": "stdout",
     "output_type": "stream",
     "text": [
      "2 min 20 seconds\n",
      "3 min 45 seconds\n",
      "3 min 54 seconds\n",
      "4 min 48 seconds\n",
      "6 min 10 seconds\n",
      "7 min 55 seconds\n",
      "8 min 2 seconds\n",
      "8 min 29 seconds\n",
      "12 min 36 seconds\n",
      "16 min 45 seconds\n"
     ]
    }
   ],
   "source": [
    "for p in ret['attackFrames']:\n",
    "    print(f\"{predictor.frameToTime(30, p)}\")"
   ]
  },
  {
   "cell_type": "code",
   "execution_count": null,
   "metadata": {
    "metadata": {}
   },
   "outputs": [
    {
     "name": "stdout",
     "output_type": "stream",
     "text": [
      "Fri May 31 02:54:42 2024       \n",
      "+-----------------------------------------------------------------------------------------+\n",
      "| NVIDIA-SMI 550.40.06              Driver Version: 551.23         CUDA Version: 12.4     |\n",
      "|-----------------------------------------+------------------------+----------------------+\n",
      "| GPU  Name                 Persistence-M | Bus-Id          Disp.A | Volatile Uncorr. ECC |\n",
      "| Fan  Temp   Perf          Pwr:Usage/Cap |           Memory-Usage | GPU-Util  Compute M. |\n",
      "|                                         |                        |               MIG M. |\n",
      "|=========================================+========================+======================|\n",
      "|   0  NVIDIA GeForce GTX 1660 ...    On  |   00000000:06:00.0  On |                  N/A |\n",
      "| 65%   77C    P0             53W /  125W |     981MiB /   6144MiB |     58%      Default |\n",
      "|                                         |                        |                  N/A |\n",
      "+-----------------------------------------+------------------------+----------------------+\n",
      "                                                                                         \n",
      "+-----------------------------------------------------------------------------------------+\n",
      "| Processes:                                                                              |\n",
      "|  GPU   GI   CI        PID   Type   Process name                              GPU Memory |\n",
      "|        ID   ID                                                               Usage      |\n",
      "|=========================================================================================|\n",
      "|    0   N/A  N/A        37      G   /Xwayland                                   N/A      |\n",
      "|    0   N/A  N/A     16779      C   /python3.10                                 N/A      |\n",
      "+-----------------------------------------------------------------------------------------+\n"
     ]
    }
   ],
   "source": [
    "!nvidia-smi"
   ]
  }
 ],
 "metadata": {
  "kernelspec": {
   "display_name": ".venv",
   "language": "python",
   "name": "python3"
  },
  "language_info": {
   "codemirror_mode": {
    "name": "ipython",
    "version": 3
   },
   "file_extension": ".py",
   "mimetype": "text/x-python",
   "name": "python",
   "nbconvert_exporter": "python",
   "pygments_lexer": "ipython3",
   "version": "3.10.12"
  }
 },
 "nbformat": 4,
 "nbformat_minor": 2
}
