{
 "cells": [
  {
   "cell_type": "code",
   "execution_count": 1,
   "metadata": {
    "metadata": {}
   },
   "outputs": [],
   "source": [
    "import predictor"
   ]
  },
  {
   "cell_type": "code",
   "execution_count": 4,
   "metadata": {
    "metadata": {}
   },
   "outputs": [
    {
     "name": "stdout",
     "output_type": "stream",
     "text": [
      "0:00 processed\n",
      "spike found at 0:45\n",
      "1:00 processed\n",
      "spike found at 1:08\n",
      "2:00 processed\n",
      "spike found at 2:38\n",
      "3:00 processed\n",
      "spike found at 3:35\n",
      "4:00 processed\n",
      "spike found at 4:13\n",
      "5:00 processed\n",
      "spike found at 5:29\n",
      "6:00 processed\n",
      "spike found at 6:55\n",
      "7:00 processed\n",
      "8:00 processed\n",
      "spike found at 8:02\n",
      "9:00 processed\n",
      "spike found at 9:31\n",
      "10:00 processed\n",
      "11:00 processed\n",
      "spike found at 11:18\n",
      "spike found at 11:50\n",
      "12:00 processed\n",
      "13:00 processed\n",
      "14:00 processed\n",
      "spike found at 14:18\n",
      "15:00 processed\n",
      "spike found at 15:47\n",
      "Done\n"
     ]
    }
   ],
   "source": [
    "ret = predictor.findAttacks(\"./testing/RKSsocials.mp4\", True, \"./output/RKSsocialsPred.avi\")"
   ]
  },
  {
   "cell_type": "code",
   "execution_count": 6,
   "metadata": {
    "metadata": {}
   },
   "outputs": [
    {
     "name": "stdout",
     "output_type": "stream",
     "text": [
      "0:44\n",
      "1:07\n",
      "2:37\n",
      "3:34\n",
      "4:12\n",
      "5:28\n",
      "6:54\n",
      "8:01\n",
      "9:30\n",
      "11:17\n",
      "11:49\n",
      "14:17\n",
      "15:46\n"
     ]
    }
   ],
   "source": [
    "for p in ret['attackFrames']:\n",
    "    print(f\"{predictor.frameToTime(30, p-30)}\")"
   ]
  }
 ],
 "metadata": {
  "kernelspec": {
   "display_name": ".venv",
   "language": "python",
   "name": "python3"
  },
  "language_info": {
   "codemirror_mode": {
    "name": "ipython",
    "version": 3
   },
   "file_extension": ".py",
   "mimetype": "text/x-python",
   "name": "python",
   "nbconvert_exporter": "python",
   "pygments_lexer": "ipython3",
   "version": "3.10.12"
  }
 },
 "nbformat": 4,
 "nbformat_minor": 2
}
